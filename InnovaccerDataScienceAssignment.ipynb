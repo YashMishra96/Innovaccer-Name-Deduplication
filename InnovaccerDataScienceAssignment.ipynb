{
 "cells": [
  {
   "cell_type": "code",
   "execution_count": 117,
   "metadata": {},
   "outputs": [],
   "source": [
    "import pandas as pd\n",
    "from fuzzywuzzy import (fuzz, process)\n",
    "import random\n",
    "import warnings\n",
    "warnings.filterwarnings('ignore')\n",
    "import numpy as np"
   ]
  },
  {
   "cell_type": "code",
   "execution_count": 120,
   "metadata": {},
   "outputs": [],
   "source": [
    "data_new=pd.read_csv('/home/yash/Downloads/Deduplication Problem - Sample Dataset.csv')"
   ]
  },
  {
   "cell_type": "code",
   "execution_count": 121,
   "metadata": {},
   "outputs": [
    {
     "data": {
      "text/html": [
       "<div>\n",
       "<style>\n",
       "    .dataframe thead tr:only-child th {\n",
       "        text-align: right;\n",
       "    }\n",
       "\n",
       "    .dataframe thead th {\n",
       "        text-align: left;\n",
       "    }\n",
       "\n",
       "    .dataframe tbody tr th {\n",
       "        vertical-align: top;\n",
       "    }\n",
       "</style>\n",
       "<table border=\"1\" class=\"dataframe\">\n",
       "  <thead>\n",
       "    <tr style=\"text-align: right;\">\n",
       "      <th></th>\n",
       "      <th>ln</th>\n",
       "      <th>dob</th>\n",
       "      <th>gn</th>\n",
       "      <th>fn</th>\n",
       "    </tr>\n",
       "  </thead>\n",
       "  <tbody>\n",
       "    <tr>\n",
       "      <th>0</th>\n",
       "      <td>SMITH JR</td>\n",
       "      <td>01/03/68</td>\n",
       "      <td>F</td>\n",
       "      <td>WILLIAM</td>\n",
       "    </tr>\n",
       "    <tr>\n",
       "      <th>1</th>\n",
       "      <td>ROTHMEYER JR</td>\n",
       "      <td>01/03/68</td>\n",
       "      <td>F</td>\n",
       "      <td>WILLIAM</td>\n",
       "    </tr>\n",
       "    <tr>\n",
       "      <th>2</th>\n",
       "      <td>ASBY JR</td>\n",
       "      <td>01/03/68</td>\n",
       "      <td>F</td>\n",
       "      <td>WILLIAM</td>\n",
       "    </tr>\n",
       "    <tr>\n",
       "      <th>3</th>\n",
       "      <td>SALTER JR</td>\n",
       "      <td>01/03/68</td>\n",
       "      <td>F</td>\n",
       "      <td>WILLIAM</td>\n",
       "    </tr>\n",
       "    <tr>\n",
       "      <th>4</th>\n",
       "      <td>SALTER JR</td>\n",
       "      <td>01/03/68</td>\n",
       "      <td>F</td>\n",
       "      <td>WILLIAM</td>\n",
       "    </tr>\n",
       "    <tr>\n",
       "      <th>5</th>\n",
       "      <td>BLAND JR</td>\n",
       "      <td>21/02/62</td>\n",
       "      <td>F</td>\n",
       "      <td>WILLIAM</td>\n",
       "    </tr>\n",
       "    <tr>\n",
       "      <th>6</th>\n",
       "      <td>BLAND JR</td>\n",
       "      <td>21/02/62</td>\n",
       "      <td>F</td>\n",
       "      <td>WILLIAM</td>\n",
       "    </tr>\n",
       "    <tr>\n",
       "      <th>7</th>\n",
       "      <td>BLAND JR</td>\n",
       "      <td>21/02/62</td>\n",
       "      <td>F</td>\n",
       "      <td>WILLIAM</td>\n",
       "    </tr>\n",
       "    <tr>\n",
       "      <th>8</th>\n",
       "      <td>SHAFFER JR</td>\n",
       "      <td>21/02/62</td>\n",
       "      <td>F</td>\n",
       "      <td>WILLIAM</td>\n",
       "    </tr>\n",
       "    <tr>\n",
       "      <th>9</th>\n",
       "      <td>SHAFFER JR</td>\n",
       "      <td>21/02/62</td>\n",
       "      <td>F</td>\n",
       "      <td>WILLIAM</td>\n",
       "    </tr>\n",
       "  </tbody>\n",
       "</table>\n",
       "</div>"
      ],
      "text/plain": [
       "             ln       dob gn       fn\n",
       "0      SMITH JR  01/03/68  F  WILLIAM\n",
       "1  ROTHMEYER JR  01/03/68  F  WILLIAM\n",
       "2       ASBY JR  01/03/68  F  WILLIAM\n",
       "3     SALTER JR  01/03/68  F  WILLIAM\n",
       "4     SALTER JR  01/03/68  F  WILLIAM\n",
       "5      BLAND JR  21/02/62  F  WILLIAM\n",
       "6      BLAND JR  21/02/62  F  WILLIAM\n",
       "7      BLAND JR  21/02/62  F  WILLIAM\n",
       "8    SHAFFER JR  21/02/62  F  WILLIAM\n",
       "9    SHAFFER JR  21/02/62  F  WILLIAM"
      ]
     },
     "execution_count": 121,
     "metadata": {},
     "output_type": "execute_result"
    }
   ],
   "source": [
    "data_new.head(10)"
   ]
  },
  {
   "cell_type": "code",
   "execution_count": 122,
   "metadata": {
    "collapsed": true
   },
   "outputs": [],
   "source": [
    "name=data_new.ln.apply(lambda x:x.split(' '))\n",
    "new_name=[]\n",
    "for i in name:\n",
    "    if len(i)==1:\n",
    "        i.append('Nan')\n",
    "    new_name.append(i[1])\n",
    "name_f=data_new.fn.apply(lambda x:x.split(' '))\n",
    "new_name_f=[]\n",
    "for i in name_f:\n",
    "    if len(i)==1:\n",
    "        i.append('Nan')\n",
    "    new_name_f.append(i[1])    \n",
    "    "
   ]
  },
  {
   "cell_type": "code",
   "execution_count": 123,
   "metadata": {},
   "outputs": [],
   "source": [
    "data_new['FIRST']=data_new['fn'].apply(lambda x:x.split(' ')[0])\n",
    "data_new['LAST']=data_new.ln.apply(lambda x:x.split(' ')[0])\n",
    "data_new['SUFFIX']=new_name\n",
    "data_new['GENDER']=data_new['gn'].values\n",
    "data_new['DOB']=data_new['dob'].values\n",
    "data_new['MIDDLE']=new_name_f\n",
    "df=data_new[['FIRST','MIDDLE','LAST','SUFFIX','DOB','GENDER']]"
   ]
  },
  {
   "cell_type": "code",
   "execution_count": 124,
   "metadata": {},
   "outputs": [
    {
     "data": {
      "text/html": [
       "<div>\n",
       "<style>\n",
       "    .dataframe thead tr:only-child th {\n",
       "        text-align: right;\n",
       "    }\n",
       "\n",
       "    .dataframe thead th {\n",
       "        text-align: left;\n",
       "    }\n",
       "\n",
       "    .dataframe tbody tr th {\n",
       "        vertical-align: top;\n",
       "    }\n",
       "</style>\n",
       "<table border=\"1\" class=\"dataframe\">\n",
       "  <thead>\n",
       "    <tr style=\"text-align: right;\">\n",
       "      <th></th>\n",
       "      <th>FIRST</th>\n",
       "      <th>MIDDLE</th>\n",
       "      <th>LAST</th>\n",
       "      <th>SUFFIX</th>\n",
       "      <th>DOB</th>\n",
       "      <th>GENDER</th>\n",
       "    </tr>\n",
       "  </thead>\n",
       "  <tbody>\n",
       "    <tr>\n",
       "      <th>0</th>\n",
       "      <td>WILLIAM</td>\n",
       "      <td>Nan</td>\n",
       "      <td>SMITH</td>\n",
       "      <td>JR</td>\n",
       "      <td>01/03/68</td>\n",
       "      <td>F</td>\n",
       "    </tr>\n",
       "    <tr>\n",
       "      <th>1</th>\n",
       "      <td>WILLIAM</td>\n",
       "      <td>Nan</td>\n",
       "      <td>ROTHMEYER</td>\n",
       "      <td>JR</td>\n",
       "      <td>01/03/68</td>\n",
       "      <td>F</td>\n",
       "    </tr>\n",
       "    <tr>\n",
       "      <th>2</th>\n",
       "      <td>WILLIAM</td>\n",
       "      <td>Nan</td>\n",
       "      <td>ASBY</td>\n",
       "      <td>JR</td>\n",
       "      <td>01/03/68</td>\n",
       "      <td>F</td>\n",
       "    </tr>\n",
       "    <tr>\n",
       "      <th>3</th>\n",
       "      <td>WILLIAM</td>\n",
       "      <td>Nan</td>\n",
       "      <td>SALTER</td>\n",
       "      <td>JR</td>\n",
       "      <td>01/03/68</td>\n",
       "      <td>F</td>\n",
       "    </tr>\n",
       "    <tr>\n",
       "      <th>4</th>\n",
       "      <td>WILLIAM</td>\n",
       "      <td>Nan</td>\n",
       "      <td>SALTER</td>\n",
       "      <td>JR</td>\n",
       "      <td>01/03/68</td>\n",
       "      <td>F</td>\n",
       "    </tr>\n",
       "  </tbody>\n",
       "</table>\n",
       "</div>"
      ],
      "text/plain": [
       "     FIRST MIDDLE       LAST SUFFIX       DOB GENDER\n",
       "0  WILLIAM    Nan      SMITH     JR  01/03/68      F\n",
       "1  WILLIAM    Nan  ROTHMEYER     JR  01/03/68      F\n",
       "2  WILLIAM    Nan       ASBY     JR  01/03/68      F\n",
       "3  WILLIAM    Nan     SALTER     JR  01/03/68      F\n",
       "4  WILLIAM    Nan     SALTER     JR  01/03/68      F"
      ]
     },
     "execution_count": 124,
     "metadata": {},
     "output_type": "execute_result"
    }
   ],
   "source": [
    "df.head()"
   ]
  },
  {
   "cell_type": "code",
   "execution_count": 125,
   "metadata": {},
   "outputs": [
    {
     "name": "stdout",
     "output_type": "stream",
     "text": [
      "WILLIAM Nan BLAND JR 08/06/54 F \n",
      "\n",
      " [('WILLIAM Nan BLAND JR 25/10/53 F', 87), ('WILLIAM Nan BLAND JR 21/02/62 F', 84), ('WILLIAM Nan BLAND Nan 21/02/62 F', 76), ('WILLIAM Nan BLAND III 21/02/62 F', 76), ('WILLIAM Nan ASBY JR 01/03/68 F', 75)]\n"
     ]
    }
   ],
   "source": [
    "df['concat'] = [' '.join(row) for row in df.values]\n",
    "df['concat'] = [' '.join(s.split()) for s in df['concat']]\n",
    "\n",
    "# Randomly select a row to compare against all others\n",
    "test_s = random.choice(df['concat'].values)\n",
    "possible_values = set(df['concat'].values).difference({test_s})\n",
    "\n",
    "# fuzzywuzzy.fuzz.ratio is a nice wrapper for difflib.SequenceMatcher\n",
    "match_proba = {s: fuzz.ratio(s, test_s) for s in possible_values}\n",
    "\n",
    "print(test_s, '\\n\\n', sorted(match_proba.items(), key=lambda x: x[1], reverse=True)[:5])"
   ]
  },
  {
   "cell_type": "code",
   "execution_count": 129,
   "metadata": {},
   "outputs": [],
   "source": [
    "df['FULLNAME'] = [{'FIRST': first, 'MIDDLE': middle, 'LAST': last,'SUFFIX':suffix}\n",
    "                  for first, middle, last,suffix in df[['FIRST', 'MIDDLE', 'LAST','SUFFIX']].values]\n",
    "\n",
    "def create_custom_dict_column(columns, column_name='custom', frame=df):\n",
    "   \n",
    "    df_as_dict = frame[columns].to_dict()\n",
    "   \n",
    "    df_as_dict = {col: rows for col, rows in df_as_dict.items() if col in columns}\n",
    "    # Get all indices\n",
    "    idxs = {idx for col in df_as_dict for idx in df_as_dict[col]}\n",
    "    \n",
    "    row_data = {idx: ' '.join(df_as_dict[col][idx] for col in columns) for idx in idxs}\n",
    "    df_to_join = pd.DataFrame(data=list(row_data.values()),\n",
    "                              columns=[column_name], index=list(row_data.keys()))\n",
    "    frame = frame.join(df_to_join, how='left')\n",
    "    return frame"
   ]
  },
  {
   "cell_type": "code",
   "execution_count": 130,
   "metadata": {},
   "outputs": [
    {
     "name": "stdout",
     "output_type": "stream",
     "text": [
      "{'FIRST': 'HAROLD', 'MIDDLE': 'Nan', 'LAST': 'FAGEN', 'SUFFIX': 'JR'} \n",
      "\n",
      " [({'FIRST': 'HAROLD', 'MIDDLE': 'Nan', 'LAST': 'MICHAELSON', 'SUFFIX': 'JR'}, 340), ({'FIRST': 'HAROLD', 'MIDDLE': 'Nan', 'LAST': 'MICHAELSON', 'SUFFIX': 'JR'}, 340), ({'FIRST': 'HAROLD', 'MIDDLE': 'Nan', 'LAST': 'LARSON', 'SUFFIX': 'JR'}, 336), ({'FIRST': 'HAROLD', 'MIDDLE': 'Nan', 'LAST': 'LARSON', 'SUFFIX': 'JR'}, 336), ({'FIRST': 'HAROLD', 'MIDDLE': 'Nan', 'LAST': 'MELVIN', 'SUFFIX': 'JR'}, 336)]\n"
     ]
    }
   ],
   "source": [
    "test_name = random.choice(df['FULLNAME'].values)\n",
    "\n",
    "def fuzz_ratio_dict_wrapper(a: dict, b: dict):\n",
    "    keys = set(a.keys()) & set(b.keys())\n",
    "    fuzz_ratios = {k: fuzz.ratio(a[k], b[k])\n",
    "                  for k in keys}\n",
    "    return sum(fuzz_ratios.values())\n",
    "\n",
    "print(test_name, '\\n\\n', sorted([(name, fuzz_ratio_dict_wrapper(test_name, name)) \n",
    "                                 for name in df['FULLNAME'].values if name != test_name],\n",
    "                                 key=lambda x: x[1], reverse=True)[:5])"
   ]
  },
  {
   "cell_type": "code",
   "execution_count": 131,
   "metadata": {
    "collapsed": true
   },
   "outputs": [],
   "source": [
    "def reduce_dicts(dicts, keys_to_include):\n",
    "    '''Filters dictionaries to include only a passed set of keys\n",
    "    \n",
    "    Parameters:\n",
    "        - dicts: iterable of dict objects\n",
    "        - keys_to_include: iterable of keys to keep'''\n",
    "    return [{k: v for k, v in d.items() if k in keys_to_include} for d in dicts]\n",
    "    \n",
    "def name_similarity(a: dict, b: dict, which_names={'FIRST', 'MIDDLE', 'LAST'}):\n",
    "    '''Intended originally for comparing names, this function could really be\n",
    "    extended to comparisons of any sequences'''\n",
    "    # Reduce the name dictionaries to only the ones in `which_names`\n",
    "    a, b = reduce_dicts([a, b], which_names)\n",
    "\n",
    "    a_set = set(a.values())\n",
    "    b_set = set(b.values())\n",
    "    \n",
    "    def jaccard_index(A: set, B: set):\n",
    "        '''Intersection-over-union measure'''\n",
    "        return len((A & B))/len((A | B))\n",
    "    \n",
    "    def length_similarity(a: dict, b: dict):\n",
    "        '''Compares lengths of string values in passed dictionaries. \n",
    "        The smaller the value returned, the more similar the values \n",
    "        are from a length point of view'''\n",
    "        matching_keys = set(a.keys()) & set(b.keys())\n",
    "        len_diffs = {k: abs(len(a[k]) - len(b[k])) for k in matching_keys}\n",
    "        return sum(len_diffs.values())\n",
    "    \n",
    "    def element_overlap(A: set, B: set, exp=1):\n",
    "        '''Set intersection with the ability to reward sets\n",
    "        sharing many elements (using `exp`)'''\n",
    "        return len(A & B) ** exp\n",
    "    \n",
    "    fuzzratio = fuzz_ratio_dict_wrapper(a, b)\n",
    "    jaccard = jaccard_index(a_set, b_set)\n",
    "    length_sim = length_similarity(a, b)\n",
    "    element_overlap_value = element_overlap(a_set, b_set, exp=2)\n",
    "    \n",
    "    return fuzzratio + jaccard + element_overlap_value - length_sim"
   ]
  },
  {
   "cell_type": "markdown",
   "metadata": {},
   "source": [
    "# Sample input and output"
   ]
  },
  {
   "cell_type": "code",
   "execution_count": 132,
   "metadata": {},
   "outputs": [
    {
     "name": "stdout",
     "output_type": "stream",
     "text": [
      "{'FIRST': 'THOMAS', 'MIDDLE': 'Nan', 'LAST': 'DUNCAN', 'SUFFIX': 'JR'} \n",
      " [({'FIRST': 'ROY', 'MIDDLE': 'Nan', 'LAST': 'DUNCAN', 'SUFFIX': 'JR'}, 223.5), ({'FIRST': 'JOHN', 'MIDDLE': 'Nan', 'LAST': 'CAIN', 'SUFFIX': 'JR'}, 177.2), ({'FIRST': 'RONALD', 'MIDDLE': 'Nan', 'LAST': 'CLARK', 'SUFFIX': 'Nan'}, 169.2), ({'FIRST': 'DONALD', 'MIDDLE': 'Nan', 'LAST': 'CLARK', 'SUFFIX': 'Nan'}, 169.2), ({'FIRST': 'HAROLD', 'MIDDLE': 'Nan', 'LAST': 'CHAVAS', 'SUFFIX': 'JR'}, 167.2)]\n"
     ]
    }
   ],
   "source": [
    "test_name = random.choice(df['FULLNAME'].values)\n",
    "\n",
    "print(test_name, '\\n', sorted([(name, name_similarity(test_name, name))\n",
    "                         for name in df['FULLNAME'].values if name != test_name],\n",
    "                         key=lambda x: x[1], reverse=True)[:5])\n"
   ]
  },
  {
   "cell_type": "code",
   "execution_count": null,
   "metadata": {
    "collapsed": true
   },
   "outputs": [],
   "source": []
  }
 ],
 "metadata": {
  "kernelspec": {
   "display_name": "Python 3",
   "language": "python",
   "name": "python3"
  }
 },
 "nbformat": 4,
 "nbformat_minor": 2
}
